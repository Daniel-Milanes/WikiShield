{
 "cells": [
  {
   "cell_type": "markdown",
   "id": "eced4d39",
   "metadata": {},
   "source": [
    "# Preprocessing Steps (Must Be Run Before Any Modeling)\n",
    "\n",
    "This notebook defines the standard preprocessing pipeline to be run on the raw dataset before training any model. It ensures all models are trained on a consistent set of rows and features.\n",
    "\n",
    "> **Note**: This notebook does **not** modify the original dataset or save new files. It provides instructions to be run as the first step in any modeling notebook.\n"
   ]
  },
  {
   "cell_type": "markdown",
   "id": "f2f9a1e2",
   "metadata": {},
   "source": [
    "## Imports\n",
    "\n",
    "Make sure to import the following libraries before running the preprocessing steps.\n"
   ]
  },
  {
   "cell_type": "code",
   "execution_count": 8,
   "id": "5ea42800",
   "metadata": {},
   "outputs": [],
   "source": [
    "import sys\n",
    "import os\n",
    "import pandas as pd\n",
    "import numpy as np\n",
    "from sklearn.model_selection import StratifiedKFold\n",
    "\n",
    "# Automatically add the project root (1 level up) to the Python path\n",
    "project_root = os.path.abspath(os.path.join(os.getcwd(), \"..\"))\n",
    "if project_root not in sys.path:\n",
    "    sys.path.append(project_root)\n",
    "\n",
    "from feature_engineer import (\n",
    "    VandalismScorer,\n",
    "    is_IP,\n",
    "    account_age,\n",
    "    comment_empty,\n",
    "    word_count,\n",
    ")"
   ]
  },
  {
   "cell_type": "markdown",
   "id": "c22ebbaf",
   "metadata": {},
   "source": [
    "##  Preprocessing & Feature Engineering\n",
    "\n",
    "The following code prepares the dataset by:\n",
    "\n",
    "-  Removing invalid rows with `\"BAD REQUEST\"` in `added_lines` or `deleted_lines`.\n",
    "- Adding custom features to enhance model performance and interpretability:\n",
    "  - `comment_empty`: Whether the comment field is empty.\n",
    "  - `account_age`: Age of the account at the time of the edit.\n",
    "  - `is_IP`: Whether the editor is anonymous (based on IP address).\n",
    "  - `word_count_added` / `word_count_deleted`: Number of words added or removed in the edit."
   ]
  },
  {
   "cell_type": "code",
   "execution_count": 9,
   "id": "9c006728",
   "metadata": {},
   "outputs": [],
   "source": [
    "df = pd.read_csv(\"/Users/danielmilanesperez/Downloads/train.csv\")\n",
    "\n",
    "# Removing bad requests\n",
    "df = df[\n",
    "    ~((df[\"added_lines\"] == \"BAD REQUEST\") | (df[\"deleted_lines\"] == \"BAD REQUEST\"))\n",
    "]\n",
    "\n",
    "# Adding the \"comment_empty\" feature\n",
    "df[\"comment_empty\"] = comment_empty(df)\n",
    "\n",
    "# Adding the \"account_age\" feature\n",
    "df[\"account_age\"] = df.apply(account_age, axis=1)\n",
    "\n",
    "# Adding the \"is_IP\" feature\n",
    "df[\"is_IP\"] = df.apply(is_IP, axis=1)\n",
    "\n",
    "# Adding the \"word_count_added\"  and \"word_count_deleted\" features\n",
    "df[\"word_count_added\"], df[\"word_count_deleted\"] = zip(*df.apply(word_count, axis=1))"
   ]
  },
  {
   "cell_type": "markdown",
   "id": "fa98b527",
   "metadata": {},
   "source": [
    "### `vandalism_score`\n",
    "\n",
    "The following code creates a new feature called `vandalism_score`, which estimates the likelihood that an edit is vandalism. This score is computed using a simple Naive Bayes-style method based on the **words added** in each edit.\n",
    "\n",
    "#### How It Works\n",
    "\n",
    "- Words that are frequently seen in past **vandalism edits** (e.g., profanity, repeated characters) increase the score.\n",
    "- Words that are common in **non-vandalism edits** (e.g., neutral or technical terms) lower the score.\n",
    "- The final score reflects how similar the added words are to patterns typically seen in vandalism.\n",
    "\n",
    "#### Avoiding Data Leakage\n",
    "\n",
    "Because this feature uses the `isvandalism` label during training, we need to avoid data leakage when computing it. To do this, we use **cross-validation**:\n",
    "\n",
    "1. Split the training data into `K` folds.\n",
    "2. For each fold:\n",
    "   - Train the scoring model on the other `K - 1` folds.\n",
    "   - Compute the `vandalism_score` for the current fold using this trained model.\n",
    "3. Repeat for all folds so that each score is generated without access to its own label.\n",
    "\n",
    "This ensures that the `vandalism_score` is a valid, leak-free input feature for any downstream machine learning model."
   ]
  },
  {
   "cell_type": "code",
   "execution_count": 10,
   "id": "63f7dd75",
   "metadata": {},
   "outputs": [],
   "source": [
    "cv = StratifiedKFold(n_splits=5, shuffle=True, random_state=42)\n",
    "\n",
    "df[\"vandalism_score\"] = np.zeros(df.shape[0], dtype=float)\n",
    "\n",
    "for train_index, test_index in cv.split(df, df[\"isvandalism\"]):\n",
    "    train_df = df.iloc[train_index]\n",
    "    test_df = df.iloc[test_index]\n",
    "\n",
    "    scorer = VandalismScorer()\n",
    "    scorer.fit(\n",
    "        train_df[\"added_lines\"], train_df[\"deleted_lines\"], train_df[\"isvandalism\"]\n",
    "    )\n",
    "    test_scores = scorer.score(test_df[\"added_lines\"], test_df[\"deleted_lines\"])\n",
    "\n",
    "    # Ensure correct alignment\n",
    "    df.loc[test_df.index, \"vandalism_score\"] = test_scores"
   ]
  },
  {
   "cell_type": "markdown",
   "id": "469ff785",
   "metadata": {},
   "source": [
    "## Suggestions\n",
    "\n",
    "- When applying a log transformation to numerical features, use `log(1 + x)` to safely handle zero values and avoid undefined results.\n",
    "- Many numerical features are highly right-skewed and contain outliers. Ensure that the model you choose can handle this distribution, or consider removing or transforming outliers before training.\n",
    "- For additional insights on feature importance and correlations, please refer to the EDA notebook located at `EDA/EDA.ipynb`. The comments there may help guide your feature selection and modeling decisions.\n"
   ]
  }
 ],
 "metadata": {
  "kernelspec": {
   "display_name": "hoax-detection",
   "language": "python",
   "name": "python3"
  },
  "language_info": {
   "codemirror_mode": {
    "name": "ipython",
    "version": 3
   },
   "file_extension": ".py",
   "mimetype": "text/x-python",
   "name": "python",
   "nbconvert_exporter": "python",
   "pygments_lexer": "ipython3",
   "version": "3.10.16"
  }
 },
 "nbformat": 4,
 "nbformat_minor": 5
}
