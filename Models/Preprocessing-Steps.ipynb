{
 "cells": [
  {
   "cell_type": "markdown",
   "id": "eced4d39",
   "metadata": {},
   "source": [
    "# Preprocessing Steps (Must Be Run Before Any Modeling)\n",
    "\n",
    "This notebook defines the standard preprocessing pipeline to be run on the raw dataset before training any model. It ensures all models are trained on a consistent set of rows and features.\n",
    "\n",
    "> **Note**: This notebook does **not** modify the original dataset or save new files. It provides instructions to be run as the first step in any modeling notebook.\n"
   ]
  },
  {
   "cell_type": "markdown",
   "id": "f2f9a1e2",
   "metadata": {},
   "source": [
    "## Imports\n",
    "\n",
    "Make sure to import the following libraries before running the preprocessing steps.\n"
   ]
  },
  {
   "cell_type": "code",
   "execution_count": 2,
   "id": "5ea42800",
   "metadata": {},
   "outputs": [],
   "source": [
    "import sys\n",
    "import os\n",
    "import pandas as pd\n",
    "\n",
    "# Automatically add the project root (1 level up) to the Python path\n",
    "project_root = os.path.abspath(os.path.join(os.getcwd(), \"..\"))\n",
    "if project_root not in sys.path:\n",
    "    sys.path.append(project_root)\n",
    "\n",
    "from feature_engineer import preprocessor"
   ]
  },
  {
   "cell_type": "markdown",
   "id": "c22ebbaf",
   "metadata": {},
   "source": [
    "##  Preprocessing & Feature Engineering\n"
   ]
  },
  {
   "cell_type": "code",
   "execution_count": 3,
   "id": "9c006728",
   "metadata": {},
   "outputs": [],
   "source": [
    "df = pd.read_csv(\"/Users/danielmilanesperez/Downloads/train.csv\")\n",
    "preprocessor(df)"
   ]
  }
 ],
 "metadata": {
  "kernelspec": {
   "display_name": "hoax-detection",
   "language": "python",
   "name": "python3"
  },
  "language_info": {
   "codemirror_mode": {
    "name": "ipython",
    "version": 3
   },
   "file_extension": ".py",
   "mimetype": "text/x-python",
   "name": "python",
   "nbconvert_exporter": "python",
   "pygments_lexer": "ipython3",
   "version": "3.10.16"
  }
 },
 "nbformat": 4,
 "nbformat_minor": 5
}
