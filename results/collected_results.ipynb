{
 "cells": [
  {
   "cell_type": "markdown",
   "id": "a078830a",
   "metadata": {
    "id": "a078830a"
   },
   "source": [
    "## Model performance results"
   ]
  },
  {
   "cell_type": "markdown",
   "id": "d53d990d",
   "metadata": {
    "id": "d53d990d"
   },
   "source": [
    "All models are tuned and use all of the features. We record their average accuracy score and F1 score over a 5-fold stratified cross-validation."
   ]
  },
  {
   "cell_type": "code",
   "execution_count": 3,
   "id": "ed6ee336",
   "metadata": {},
   "outputs": [
    {
     "data": {
      "text/html": [
       "<div>\n",
       "<style scoped>\n",
       "    .dataframe tbody tr th:only-of-type {\n",
       "        vertical-align: middle;\n",
       "    }\n",
       "\n",
       "    .dataframe tbody tr th {\n",
       "        vertical-align: top;\n",
       "    }\n",
       "\n",
       "    .dataframe thead th {\n",
       "        text-align: right;\n",
       "    }\n",
       "</style>\n",
       "<table border=\"1\" class=\"dataframe\">\n",
       "  <thead>\n",
       "    <tr style=\"text-align: right;\">\n",
       "      <th></th>\n",
       "      <th>Models</th>\n",
       "      <th>Accuracy</th>\n",
       "      <th>Precision</th>\n",
       "      <th>Recall</th>\n",
       "      <th>F1 Score</th>\n",
       "    </tr>\n",
       "  </thead>\n",
       "  <tbody>\n",
       "    <tr>\n",
       "      <th>0</th>\n",
       "      <td>Dummy</td>\n",
       "      <td>0.498200</td>\n",
       "      <td>0.485000</td>\n",
       "      <td>0.498200</td>\n",
       "      <td>0.491500</td>\n",
       "    </tr>\n",
       "    <tr>\n",
       "      <th>1</th>\n",
       "      <td>GaussianNB</td>\n",
       "      <td>0.775934</td>\n",
       "      <td>0.686418</td>\n",
       "      <td>0.992982</td>\n",
       "      <td>0.811717</td>\n",
       "    </tr>\n",
       "    <tr>\n",
       "      <th>2</th>\n",
       "      <td>QDA</td>\n",
       "      <td>0.794374</td>\n",
       "      <td>0.706791</td>\n",
       "      <td>0.986529</td>\n",
       "      <td>0.823546</td>\n",
       "    </tr>\n",
       "    <tr>\n",
       "      <th>3</th>\n",
       "      <td>KNN</td>\n",
       "      <td>0.780000</td>\n",
       "      <td>0.820000</td>\n",
       "      <td>0.840000</td>\n",
       "      <td>0.829880</td>\n",
       "    </tr>\n",
       "    <tr>\n",
       "      <th>4</th>\n",
       "      <td>LDA</td>\n",
       "      <td>0.816542</td>\n",
       "      <td>0.745697</td>\n",
       "      <td>0.945148</td>\n",
       "      <td>0.833648</td>\n",
       "    </tr>\n",
       "    <tr>\n",
       "      <th>6</th>\n",
       "      <td>Logistic</td>\n",
       "      <td>0.832000</td>\n",
       "      <td>0.761300</td>\n",
       "      <td>0.954200</td>\n",
       "      <td>0.846900</td>\n",
       "    </tr>\n",
       "    <tr>\n",
       "      <th>5</th>\n",
       "      <td>SVC</td>\n",
       "      <td>0.848600</td>\n",
       "      <td>0.829400</td>\n",
       "      <td>0.868800</td>\n",
       "      <td>0.848700</td>\n",
       "    </tr>\n",
       "    <tr>\n",
       "      <th>7</th>\n",
       "      <td>PCA + kNN</td>\n",
       "      <td>0.862000</td>\n",
       "      <td>0.863000</td>\n",
       "      <td>0.852000</td>\n",
       "      <td>0.857000</td>\n",
       "    </tr>\n",
       "    <tr>\n",
       "      <th>8</th>\n",
       "      <td>VandalismScore</td>\n",
       "      <td>0.883003</td>\n",
       "      <td>0.947729</td>\n",
       "      <td>0.804039</td>\n",
       "      <td>0.869991</td>\n",
       "    </tr>\n",
       "    <tr>\n",
       "      <th>10</th>\n",
       "      <td>DecisionTree</td>\n",
       "      <td>0.898200</td>\n",
       "      <td>0.917800</td>\n",
       "      <td>0.868700</td>\n",
       "      <td>0.892600</td>\n",
       "    </tr>\n",
       "    <tr>\n",
       "      <th>9</th>\n",
       "      <td>ExtraTree</td>\n",
       "      <td>0.909100</td>\n",
       "      <td>0.919400</td>\n",
       "      <td>0.891400</td>\n",
       "      <td>0.905200</td>\n",
       "    </tr>\n",
       "    <tr>\n",
       "      <th>11</th>\n",
       "      <td>RandomForest</td>\n",
       "      <td>0.910800</td>\n",
       "      <td>0.923200</td>\n",
       "      <td>0.891000</td>\n",
       "      <td>0.906800</td>\n",
       "    </tr>\n",
       "    <tr>\n",
       "      <th>14</th>\n",
       "      <td>XGBoost</td>\n",
       "      <td>0.914900</td>\n",
       "      <td>0.927100</td>\n",
       "      <td>0.895600</td>\n",
       "      <td>0.911100</td>\n",
       "    </tr>\n",
       "    <tr>\n",
       "      <th>13</th>\n",
       "      <td>LightGBM</td>\n",
       "      <td>0.915400</td>\n",
       "      <td>0.927200</td>\n",
       "      <td>0.896800</td>\n",
       "      <td>0.911700</td>\n",
       "    </tr>\n",
       "    <tr>\n",
       "      <th>12</th>\n",
       "      <td>CatBoost</td>\n",
       "      <td>0.916100</td>\n",
       "      <td>0.926500</td>\n",
       "      <td>0.899100</td>\n",
       "      <td>0.912600</td>\n",
       "    </tr>\n",
       "    <tr>\n",
       "      <th>15</th>\n",
       "      <td>VotingGB</td>\n",
       "      <td>0.916300</td>\n",
       "      <td>0.928300</td>\n",
       "      <td>0.897400</td>\n",
       "      <td>0.912600</td>\n",
       "    </tr>\n",
       "  </tbody>\n",
       "</table>\n",
       "</div>"
      ],
      "text/plain": [
       "            Models  Accuracy  Precision    Recall  F1 Score\n",
       "0            Dummy  0.498200   0.485000  0.498200  0.491500\n",
       "1       GaussianNB  0.775934   0.686418  0.992982  0.811717\n",
       "2              QDA  0.794374   0.706791  0.986529  0.823546\n",
       "3              KNN  0.780000   0.820000  0.840000  0.829880\n",
       "4              LDA  0.816542   0.745697  0.945148  0.833648\n",
       "6         Logistic  0.832000   0.761300  0.954200  0.846900\n",
       "5              SVC  0.848600   0.829400  0.868800  0.848700\n",
       "7        PCA + kNN  0.862000   0.863000  0.852000  0.857000\n",
       "8   VandalismScore  0.883003   0.947729  0.804039  0.869991\n",
       "10    DecisionTree  0.898200   0.917800  0.868700  0.892600\n",
       "9        ExtraTree  0.909100   0.919400  0.891400  0.905200\n",
       "11    RandomForest  0.910800   0.923200  0.891000  0.906800\n",
       "14         XGBoost  0.914900   0.927100  0.895600  0.911100\n",
       "13        LightGBM  0.915400   0.927200  0.896800  0.911700\n",
       "12        CatBoost  0.916100   0.926500  0.899100  0.912600\n",
       "15        VotingGB  0.916300   0.928300  0.897400  0.912600"
      ]
     },
     "execution_count": 3,
     "metadata": {},
     "output_type": "execute_result"
    }
   ],
   "source": [
    "import pandas as pd\n",
    "\n",
    "df_results = pd.read_excel(\"model_scores.xlsx\")\n",
    "df_results.rename(columns={'Unnamed: 0': 'Models'}, inplace=True)\n",
    "df_results.sort_values(by='F1 Score', inplace=True)\n",
    "\n",
    "df_results"
   ]
  },
  {
   "cell_type": "markdown",
   "id": "27cee09f",
   "metadata": {
    "id": "27cee09f"
   },
   "source": [
    "### Comparison of models against baselines\n",
    "\n",
    "In every metric, all the models perform significantly better than the dummy baseline model. The tree models performed well and are very close to the boosting models. For better generalizability, we chose our final model to be the voting classifier (VotingGB in the table) that combines XGBoost, LightGBM, and CatBoost."
   ]
  },
  {
   "cell_type": "markdown",
   "id": "388f1f92",
   "metadata": {
    "id": "388f1f92",
    "vscode": {
     "languageId": "plaintext"
    }
   },
   "source": [
    "### Testing results on the balanced and imbalanced testing sets"
   ]
  },
  {
   "cell_type": "code",
   "execution_count": 4,
   "id": "70e26305",
   "metadata": {},
   "outputs": [
    {
     "data": {
      "text/html": [
       "<img src=\"balanced_testing_results.png\" width=\"1000\" height=\"750\"/>"
      ],
      "text/plain": [
       "<IPython.core.display.Image object>"
      ]
     },
     "execution_count": 4,
     "metadata": {},
     "output_type": "execute_result"
    }
   ],
   "source": [
    "from IPython.display import Image\n",
    "\n",
    "Image(url=\"balanced_testing_results.png\", width=1000, height=750)"
   ]
  },
  {
   "cell_type": "code",
   "execution_count": 3,
   "id": "8d445e67",
   "metadata": {},
   "outputs": [
    {
     "data": {
      "text/html": [
       "<img src=\"imbalanced_testing_results.png\" width=\"1000\" height=\"750\"/>"
      ],
      "text/plain": [
       "<IPython.core.display.Image object>"
      ]
     },
     "execution_count": 3,
     "metadata": {},
     "output_type": "execute_result"
    }
   ],
   "source": [
    "Image(url=\"imbalanced_testing_results.png\", width=1000, height=750)"
   ]
  }
 ],
 "metadata": {
  "colab": {
   "provenance": []
  },
  "kernelspec": {
   "display_name": "hoax-detection",
   "language": "python",
   "name": "python3"
  },
  "language_info": {
   "codemirror_mode": {
    "name": "ipython",
    "version": 3
   },
   "file_extension": ".py",
   "mimetype": "text/x-python",
   "name": "python",
   "nbconvert_exporter": "python",
   "pygments_lexer": "ipython3",
   "version": "3.12.11"
  }
 },
 "nbformat": 4,
 "nbformat_minor": 5
}
