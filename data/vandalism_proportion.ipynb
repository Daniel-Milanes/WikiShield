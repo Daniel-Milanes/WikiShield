{
 "cells": [
  {
   "cell_type": "markdown",
   "id": "e3d1ae24",
   "metadata": {},
   "source": [
    "# Counting vandalism ratio in the dataset (after preprocessing)"
   ]
  },
  {
   "cell_type": "code",
   "execution_count": 1,
   "id": "509bbace",
   "metadata": {},
   "outputs": [],
   "source": [
    "import sys\n",
    "import os\n",
    "import pandas as pd"
   ]
  },
  {
   "cell_type": "markdown",
   "id": "c8138c3e",
   "metadata": {},
   "source": [
    "Set the path"
   ]
  },
  {
   "cell_type": "code",
   "execution_count": 2,
   "id": "11ffd512",
   "metadata": {},
   "outputs": [],
   "source": [
    "# Automatically add the project root (1 level up) to the Python path\n",
    "project_root = os.path.abspath(os.path.join(os.getcwd(), \"..\"))\n",
    "if project_root not in sys.path:\n",
    "    sys.path.append(project_root)"
   ]
  },
  {
   "cell_type": "markdown",
   "id": "8a0ddab4",
   "metadata": {},
   "source": [
    "Training dataset"
   ]
  },
  {
   "cell_type": "code",
   "execution_count": 6,
   "id": "cdb7663c",
   "metadata": {},
   "outputs": [
    {
     "data": {
      "text/plain": [
       "25488"
      ]
     },
     "execution_count": 6,
     "metadata": {},
     "output_type": "execute_result"
    }
   ],
   "source": [
    "df_train = pd.read_csv(project_root+\"/data/train.csv\")\n",
    "len(df_train)"
   ]
  },
  {
   "cell_type": "markdown",
   "id": "7d171a7c",
   "metadata": {},
   "source": [
    "Drop rows with BAD REQUEST's"
   ]
  },
  {
   "cell_type": "code",
   "execution_count": 5,
   "id": "26ba41ec",
   "metadata": {},
   "outputs": [
    {
     "data": {
      "text/plain": [
       "25428"
      ]
     },
     "execution_count": 5,
     "metadata": {},
     "output_type": "execute_result"
    }
   ],
   "source": [
    "df_train_processed = df_train.drop(\n",
    "        df_train[\n",
    "            (df_train[\"added_lines\"] == \"BAD REQUEST\")\n",
    "            | (df_train[\"deleted_lines\"] == \"BAD REQUEST\")\n",
    "        ].index,\n",
    "        inplace=False,\n",
    "    )\n",
    "len(df_train_processed)"
   ]
  },
  {
   "cell_type": "code",
   "execution_count": 9,
   "id": "a7cea67d",
   "metadata": {},
   "outputs": [
    {
     "name": "stdout",
     "output_type": "stream",
     "text": [
      "The proportion of vandalism datapoint in the processed training set is 0.4868648733679409\n"
     ]
    }
   ],
   "source": [
    "train_ratio = df_train_processed.isvandalism.sum() / len(df_train_processed)\n",
    "print(f\"The proportion of vandalism datapoint in the processed training set is {train_ratio}\")"
   ]
  },
  {
   "cell_type": "markdown",
   "id": "02e4f935",
   "metadata": {},
   "source": [
    "Balanced testing dataset"
   ]
  },
  {
   "cell_type": "code",
   "execution_count": 11,
   "id": "a37cb2d3",
   "metadata": {},
   "outputs": [
    {
     "data": {
      "text/plain": [
       "6372"
      ]
     },
     "execution_count": 11,
     "metadata": {},
     "output_type": "execute_result"
    }
   ],
   "source": [
    "df_test_bal = pd.read_csv(project_root+\"/data/test.csv\")\n",
    "len(df_test_bal)"
   ]
  },
  {
   "cell_type": "code",
   "execution_count": 12,
   "id": "783f4611",
   "metadata": {},
   "outputs": [
    {
     "data": {
      "text/plain": [
       "6355"
      ]
     },
     "execution_count": 12,
     "metadata": {},
     "output_type": "execute_result"
    }
   ],
   "source": [
    "df_test_bal_processed = df_test_bal.drop(\n",
    "        df_test_bal[\n",
    "            (df_test_bal[\"added_lines\"] == \"BAD REQUEST\")\n",
    "            | (df_test_bal[\"deleted_lines\"] == \"BAD REQUEST\")\n",
    "        ].index,\n",
    "        inplace=False,\n",
    "    )\n",
    "len(df_test_bal_processed)"
   ]
  },
  {
   "cell_type": "code",
   "execution_count": 13,
   "id": "a1dd1dc9",
   "metadata": {},
   "outputs": [
    {
     "name": "stdout",
     "output_type": "stream",
     "text": [
      "The proportion of vandalism datapoint in the processed balanced testing set is 0.4871754523996853\n"
     ]
    }
   ],
   "source": [
    "bal_test_ratio = df_test_bal_processed.isvandalism.sum() / len(df_test_bal_processed)\n",
    "print(f\"The proportion of vandalism datapoint in the processed balanced testing set is {bal_test_ratio}\")"
   ]
  },
  {
   "cell_type": "markdown",
   "id": "c4975e82",
   "metadata": {},
   "source": [
    "Imbalanced testing dataset"
   ]
  },
  {
   "cell_type": "code",
   "execution_count": 14,
   "id": "798052d5",
   "metadata": {},
   "outputs": [
    {
     "data": {
      "text/plain": [
       "560"
      ]
     },
     "execution_count": 14,
     "metadata": {},
     "output_type": "execute_result"
    }
   ],
   "source": [
    "df_test_imbal = pd.read_csv(project_root+\"/data/test_imbalanced.csv\")\n",
    "len(df_test_imbal)"
   ]
  },
  {
   "cell_type": "code",
   "execution_count": 15,
   "id": "797f9845",
   "metadata": {},
   "outputs": [
    {
     "data": {
      "text/plain": [
       "527"
      ]
     },
     "execution_count": 15,
     "metadata": {},
     "output_type": "execute_result"
    }
   ],
   "source": [
    "df_test_imbal_processed = df_test_imbal.drop(\n",
    "        df_test_imbal[\n",
    "            (df_test_imbal[\"added_lines\"] == \"BAD REQUEST\")\n",
    "            | (df_test_imbal[\"deleted_lines\"] == \"BAD REQUEST\")\n",
    "        ].index,\n",
    "        inplace=False,\n",
    "    )\n",
    "len(df_test_imbal_processed)"
   ]
  },
  {
   "cell_type": "code",
   "execution_count": 16,
   "id": "091fcc24",
   "metadata": {},
   "outputs": [
    {
     "name": "stdout",
     "output_type": "stream",
     "text": [
      "The proportion of vandalism datapoint in the processed balanced testing set is 0.09108159392789374\n"
     ]
    }
   ],
   "source": [
    "imbal_test_ratio = df_test_imbal_processed.isvandalism.sum() / len(df_test_imbal_processed)\n",
    "print(f\"The proportion of vandalism datapoint in the processed balanced testing set is {imbal_test_ratio}\")"
   ]
  }
 ],
 "metadata": {
  "kernelspec": {
   "display_name": "hoax-detection",
   "language": "python",
   "name": "python3"
  },
  "language_info": {
   "codemirror_mode": {
    "name": "ipython",
    "version": 3
   },
   "file_extension": ".py",
   "mimetype": "text/x-python",
   "name": "python",
   "nbconvert_exporter": "python",
   "pygments_lexer": "ipython3",
   "version": "3.12.11"
  }
 },
 "nbformat": 4,
 "nbformat_minor": 5
}
