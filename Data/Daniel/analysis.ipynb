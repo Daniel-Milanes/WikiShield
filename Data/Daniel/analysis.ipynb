{
 "cells": [
  {
   "cell_type": "code",
   "execution_count": 1,
   "id": "c5a7b675",
   "metadata": {},
   "outputs": [
    {
     "name": "stderr",
     "output_type": "stream",
     "text": [
      "/Users/danielmilanesperez/anaconda3/envs/hoax-detection/lib/python3.10/site-packages/tqdm/auto.py:21: TqdmWarning: IProgress not found. Please update jupyter and ipywidgets. See https://ipywidgets.readthedocs.io/en/stable/user_install.html\n",
      "  from .autonotebook import tqdm as notebook_tqdm\n"
     ]
    }
   ],
   "source": [
    "import pandas as pd\n",
    "import numpy as np\n",
    "import xgboost as xgb\n",
    "from sklearn.model_selection import StratifiedKFold, cross_val_score, cross_validate\n",
    "from sklearn.metrics import make_scorer, f1_score, accuracy_score, precision_score, recall_score\n",
    "import optuna\n",
    "from sklearn.dummy import DummyClassifier\n",
    "import matplotlib.pyplot as plt"
   ]
  },
  {
   "cell_type": "code",
   "execution_count": 2,
   "id": "1cdf2ce4",
   "metadata": {},
   "outputs": [],
   "source": [
    "df = pd.read_csv(\"/Users/danielmilanesperez/Downloads/train_data.csv\")"
   ]
  },
  {
   "cell_type": "code",
   "execution_count": 3,
   "id": "b35842d5",
   "metadata": {},
   "outputs": [
    {
     "data": {
      "text/html": [
       "<div>\n",
       "<style scoped>\n",
       "    .dataframe tbody tr th:only-of-type {\n",
       "        vertical-align: middle;\n",
       "    }\n",
       "\n",
       "    .dataframe tbody tr th {\n",
       "        vertical-align: top;\n",
       "    }\n",
       "\n",
       "    .dataframe thead th {\n",
       "        text-align: right;\n",
       "    }\n",
       "</style>\n",
       "<table border=\"1\" class=\"dataframe\">\n",
       "  <thead>\n",
       "    <tr style=\"text-align: right;\">\n",
       "      <th></th>\n",
       "      <th>EditType</th>\n",
       "      <th>EditID</th>\n",
       "      <th>comment</th>\n",
       "      <th>user</th>\n",
       "      <th>user_edit_count</th>\n",
       "      <th>user_distinct_pages</th>\n",
       "      <th>user_warns</th>\n",
       "      <th>user_reg_time</th>\n",
       "      <th>prev_user</th>\n",
       "      <th>common</th>\n",
       "      <th>...</th>\n",
       "      <th>namespace</th>\n",
       "      <th>creator</th>\n",
       "      <th>num_recent_edits</th>\n",
       "      <th>num_recent_reversions</th>\n",
       "      <th>current_minor</th>\n",
       "      <th>current_timestamp</th>\n",
       "      <th>added_lines</th>\n",
       "      <th>previous_timestamp</th>\n",
       "      <th>deleted_lines</th>\n",
       "      <th>isvandalism</th>\n",
       "    </tr>\n",
       "  </thead>\n",
       "  <tbody>\n",
       "    <tr>\n",
       "      <th>0</th>\n",
       "      <td>change</td>\n",
       "      <td>329595189</td>\n",
       "      <td>NaN</td>\n",
       "      <td>Nryan30</td>\n",
       "      <td>66</td>\n",
       "      <td>13</td>\n",
       "      <td>0</td>\n",
       "      <td>1259891940</td>\n",
       "      <td>219.78.124.42</td>\n",
       "      <td>NaN</td>\n",
       "      <td>...</td>\n",
       "      <td>main</td>\n",
       "      <td>132.229.87.134</td>\n",
       "      <td>0</td>\n",
       "      <td>0</td>\n",
       "      <td>False</td>\n",
       "      <td>1259894598</td>\n",
       "      <td>,==Leadership Through Emotion==,\"Leadership is...</td>\n",
       "      <td>1259856305</td>\n",
       "      <td>NaN</td>\n",
       "      <td>False</td>\n",
       "    </tr>\n",
       "    <tr>\n",
       "      <th>1</th>\n",
       "      <td>change</td>\n",
       "      <td>232199357</td>\n",
       "      <td>/* Penis */</td>\n",
       "      <td>89.242.200.212</td>\n",
       "      <td>4</td>\n",
       "      <td>2</td>\n",
       "      <td>2</td>\n",
       "      <td>20080815230001</td>\n",
       "      <td>66.75.235.255</td>\n",
       "      <td>NaN</td>\n",
       "      <td>...</td>\n",
       "      <td>main</td>\n",
       "      <td>Node ue</td>\n",
       "      <td>0</td>\n",
       "      <td>0</td>\n",
       "      <td>False</td>\n",
       "      <td>1218841201</td>\n",
       "      <td>It's fucking big.</td>\n",
       "      <td>1218816231</td>\n",
       "      <td>\"Falcon gained media attention after appearing...</td>\n",
       "      <td>True</td>\n",
       "    </tr>\n",
       "    <tr>\n",
       "      <th>2</th>\n",
       "      <td>change</td>\n",
       "      <td>329877752</td>\n",
       "      <td>Reverted edits by [[Special:Contributions/71.2...</td>\n",
       "      <td>Chamal N</td>\n",
       "      <td>18697</td>\n",
       "      <td>0</td>\n",
       "      <td>2</td>\n",
       "      <td>1208605428</td>\n",
       "      <td>71.208.113.72</td>\n",
       "      <td>NaN</td>\n",
       "      <td>...</td>\n",
       "      <td>main</td>\n",
       "      <td>Mkill</td>\n",
       "      <td>2</td>\n",
       "      <td>1</td>\n",
       "      <td>True</td>\n",
       "      <td>1260025124</td>\n",
       "      <td>\"Japanese modern drama in the early twentieth ...</td>\n",
       "      <td>1260025104</td>\n",
       "      <td>\".nmbhgsdj;kfhds;akjfhds;fkjhsf;kjdshf;sdkjhfd...</td>\n",
       "      <td>False</td>\n",
       "    </tr>\n",
       "    <tr>\n",
       "      <th>3</th>\n",
       "      <td>change</td>\n",
       "      <td>253129486</td>\n",
       "      <td>NaN</td>\n",
       "      <td>Animaldudeyay1009</td>\n",
       "      <td>3</td>\n",
       "      <td>1</td>\n",
       "      <td>2</td>\n",
       "      <td>1227241317</td>\n",
       "      <td>J.delanoy</td>\n",
       "      <td>NaN</td>\n",
       "      <td>...</td>\n",
       "      <td>main</td>\n",
       "      <td>Conversion script</td>\n",
       "      <td>0</td>\n",
       "      <td>0</td>\n",
       "      <td>False</td>\n",
       "      <td>1227241840</td>\n",
       "      <td>I LIKE CHEESE. CHEESE IS GOOD. CHOCOLATE MILK ...</td>\n",
       "      <td>1227241120</td>\n",
       "      <td>\"A '''kaleidoscope''' is a tube of [[mirror]]s...</td>\n",
       "      <td>True</td>\n",
       "    </tr>\n",
       "    <tr>\n",
       "      <th>4</th>\n",
       "      <td>change</td>\n",
       "      <td>394520551</td>\n",
       "      <td>Adding Persondata using [[Project:AWB|AWB]] (7...</td>\n",
       "      <td>RjwilmsiBot</td>\n",
       "      <td>1602950</td>\n",
       "      <td>1309238</td>\n",
       "      <td>0</td>\n",
       "      <td>1257977968</td>\n",
       "      <td>LobãoV</td>\n",
       "      <td>NaN</td>\n",
       "      <td>...</td>\n",
       "      <td>main</td>\n",
       "      <td>LobãoV</td>\n",
       "      <td>0</td>\n",
       "      <td>0</td>\n",
       "      <td>True</td>\n",
       "      <td>1288757547</td>\n",
       "      <td>{{Persondata &lt;!-- Metadata: see [[Wikipedia:Pe...</td>\n",
       "      <td>1285262356</td>\n",
       "      <td>,</td>\n",
       "      <td>False</td>\n",
       "    </tr>\n",
       "  </tbody>\n",
       "</table>\n",
       "<p>5 rows × 24 columns</p>\n",
       "</div>"
      ],
      "text/plain": [
       "  EditType     EditID                                            comment  \\\n",
       "0   change  329595189                                                NaN   \n",
       "1   change  232199357                                        /* Penis */   \n",
       "2   change  329877752  Reverted edits by [[Special:Contributions/71.2...   \n",
       "3   change  253129486                                                NaN   \n",
       "4   change  394520551  Adding Persondata using [[Project:AWB|AWB]] (7...   \n",
       "\n",
       "                user  user_edit_count  user_distinct_pages  user_warns  \\\n",
       "0            Nryan30               66                   13           0   \n",
       "1     89.242.200.212                4                    2           2   \n",
       "2           Chamal N            18697                    0           2   \n",
       "3  Animaldudeyay1009                3                    1           2   \n",
       "4        RjwilmsiBot          1602950              1309238           0   \n",
       "\n",
       "    user_reg_time      prev_user  common  ...  namespace            creator  \\\n",
       "0      1259891940  219.78.124.42     NaN  ...       main     132.229.87.134   \n",
       "1  20080815230001  66.75.235.255     NaN  ...       main            Node ue   \n",
       "2      1208605428  71.208.113.72     NaN  ...       main              Mkill   \n",
       "3      1227241317      J.delanoy     NaN  ...       main  Conversion script   \n",
       "4      1257977968         LobãoV     NaN  ...       main             LobãoV   \n",
       "\n",
       "   num_recent_edits num_recent_reversions current_minor current_timestamp  \\\n",
       "0                 0                     0         False        1259894598   \n",
       "1                 0                     0         False        1218841201   \n",
       "2                 2                     1          True        1260025124   \n",
       "3                 0                     0         False        1227241840   \n",
       "4                 0                     0          True        1288757547   \n",
       "\n",
       "                                         added_lines  previous_timestamp  \\\n",
       "0  ,==Leadership Through Emotion==,\"Leadership is...          1259856305   \n",
       "1                                  It's fucking big.          1218816231   \n",
       "2  \"Japanese modern drama in the early twentieth ...          1260025104   \n",
       "3  I LIKE CHEESE. CHEESE IS GOOD. CHOCOLATE MILK ...          1227241120   \n",
       "4  {{Persondata <!-- Metadata: see [[Wikipedia:Pe...          1285262356   \n",
       "\n",
       "                                       deleted_lines  isvandalism  \n",
       "0                                                NaN        False  \n",
       "1  \"Falcon gained media attention after appearing...         True  \n",
       "2  \".nmbhgsdj;kfhds;akjfhds;fkjhsf;kjdshf;sdkjhfd...        False  \n",
       "3  \"A '''kaleidoscope''' is a tube of [[mirror]]s...         True  \n",
       "4                                                  ,        False  \n",
       "\n",
       "[5 rows x 24 columns]"
      ]
     },
     "execution_count": 3,
     "metadata": {},
     "output_type": "execute_result"
    }
   ],
   "source": [
    "df.head()"
   ]
  },
  {
   "cell_type": "code",
   "execution_count": 4,
   "id": "44a02b5a",
   "metadata": {},
   "outputs": [
    {
     "data": {
      "text/plain": [
       "EditType                     0\n",
       "EditID                       0\n",
       "comment                   7412\n",
       "user                         0\n",
       "user_edit_count              0\n",
       "user_distinct_pages          0\n",
       "user_warns                   0\n",
       "user_reg_time                0\n",
       "prev_user                    0\n",
       "common                   25488\n",
       "current                  25488\n",
       "previous                 25488\n",
       "page_made_time               0\n",
       "title                        0\n",
       "namespace                    0\n",
       "creator                      0\n",
       "num_recent_edits             0\n",
       "num_recent_reversions        0\n",
       "current_minor                0\n",
       "current_timestamp            0\n",
       "added_lines               1236\n",
       "previous_timestamp           0\n",
       "deleted_lines             4671\n",
       "isvandalism                  0\n",
       "dtype: int64"
      ]
     },
     "execution_count": 4,
     "metadata": {},
     "output_type": "execute_result"
    }
   ],
   "source": [
    "df.isnull().sum(axis = 0)"
   ]
  },
  {
   "cell_type": "code",
   "execution_count": 5,
   "id": "a7c0b340",
   "metadata": {},
   "outputs": [
    {
     "data": {
      "text/plain": [
       "isvandalism\n",
       "False    13091\n",
       "True     12397\n",
       "Name: count, dtype: int64"
      ]
     },
     "execution_count": 5,
     "metadata": {},
     "output_type": "execute_result"
    }
   ],
   "source": [
    "df[\"isvandalism\"].value_counts()"
   ]
  },
  {
   "cell_type": "code",
   "execution_count": 6,
   "id": "8deba251",
   "metadata": {},
   "outputs": [],
   "source": [
    "predictor = df[[\"user_edit_count\", \"user_distinct_pages\", \"user_warns\", \"num_recent_edits\",\n",
    "                \"num_recent_reversions\", \"current_minor\"]]\n",
    "\n",
    "target = df[\"isvandalism\"]\n"
   ]
  },
  {
   "cell_type": "code",
   "execution_count": 7,
   "id": "553023fb",
   "metadata": {},
   "outputs": [],
   "source": [
    "cv = StratifiedKFold(n_splits = 10, shuffle = True, random_state = 42)"
   ]
  },
  {
   "cell_type": "code",
   "execution_count": 8,
   "id": "3163889f",
   "metadata": {},
   "outputs": [],
   "source": [
    "scoring = {\n",
    "    'accuracy' : make_scorer(accuracy_score), \n",
    "    'precision': make_scorer(precision_score),\n",
    "    'recall'   : make_scorer(recall_score),\n",
    "    'f1_score' : make_scorer(f1_score)\n",
    "}"
   ]
  },
  {
   "cell_type": "code",
   "execution_count": 9,
   "id": "25104896",
   "metadata": {},
   "outputs": [
    {
     "name": "stdout",
     "output_type": "stream",
     "text": [
      "Dummy Classifier (Uniform) Scores:\n",
      "accuracy: 0.5026\n",
      "precision: 0.4888\n",
      "recall: 0.4936\n",
      "f1_score: 0.4912\n"
     ]
    }
   ],
   "source": [
    "# Dummy (Uniform) classifier\n",
    "dummy_uniform = DummyClassifier(strategy = \"uniform\", random_state = 42)\n",
    "dummy_uniform_scores = cross_validate(dummy_uniform, predictor, target, cv = cv, scoring = scoring)\n",
    "\n",
    "print(\"Dummy Classifier (Uniform) Scores:\")\n",
    "\n",
    "for metric in scoring.keys():\n",
    "    mean_score = dummy_uniform_scores[f'test_{metric}'].mean()\n",
    "    print(f\"{metric}: {mean_score:.4f}\")"
   ]
  },
  {
   "cell_type": "code",
   "execution_count": 10,
   "id": "2c500b44",
   "metadata": {},
   "outputs": [
    {
     "name": "stdout",
     "output_type": "stream",
     "text": [
      "Dummy Classifier (Most Frequent) Scores:\n",
      "accuracy: 0.5136\n",
      "precision: 0.0000\n",
      "recall: 0.0000\n",
      "f1_score: 0.0000\n"
     ]
    },
    {
     "name": "stderr",
     "output_type": "stream",
     "text": [
      "/Users/danielmilanesperez/anaconda3/envs/hoax-detection/lib/python3.10/site-packages/sklearn/metrics/_classification.py:1565: UndefinedMetricWarning: Precision is ill-defined and being set to 0.0 due to no predicted samples. Use `zero_division` parameter to control this behavior.\n",
      "  _warn_prf(average, modifier, f\"{metric.capitalize()} is\", len(result))\n",
      "/Users/danielmilanesperez/anaconda3/envs/hoax-detection/lib/python3.10/site-packages/sklearn/metrics/_classification.py:1565: UndefinedMetricWarning: Precision is ill-defined and being set to 0.0 due to no predicted samples. Use `zero_division` parameter to control this behavior.\n",
      "  _warn_prf(average, modifier, f\"{metric.capitalize()} is\", len(result))\n",
      "/Users/danielmilanesperez/anaconda3/envs/hoax-detection/lib/python3.10/site-packages/sklearn/metrics/_classification.py:1565: UndefinedMetricWarning: Precision is ill-defined and being set to 0.0 due to no predicted samples. Use `zero_division` parameter to control this behavior.\n",
      "  _warn_prf(average, modifier, f\"{metric.capitalize()} is\", len(result))\n",
      "/Users/danielmilanesperez/anaconda3/envs/hoax-detection/lib/python3.10/site-packages/sklearn/metrics/_classification.py:1565: UndefinedMetricWarning: Precision is ill-defined and being set to 0.0 due to no predicted samples. Use `zero_division` parameter to control this behavior.\n",
      "  _warn_prf(average, modifier, f\"{metric.capitalize()} is\", len(result))\n",
      "/Users/danielmilanesperez/anaconda3/envs/hoax-detection/lib/python3.10/site-packages/sklearn/metrics/_classification.py:1565: UndefinedMetricWarning: Precision is ill-defined and being set to 0.0 due to no predicted samples. Use `zero_division` parameter to control this behavior.\n",
      "  _warn_prf(average, modifier, f\"{metric.capitalize()} is\", len(result))\n",
      "/Users/danielmilanesperez/anaconda3/envs/hoax-detection/lib/python3.10/site-packages/sklearn/metrics/_classification.py:1565: UndefinedMetricWarning: Precision is ill-defined and being set to 0.0 due to no predicted samples. Use `zero_division` parameter to control this behavior.\n",
      "  _warn_prf(average, modifier, f\"{metric.capitalize()} is\", len(result))\n",
      "/Users/danielmilanesperez/anaconda3/envs/hoax-detection/lib/python3.10/site-packages/sklearn/metrics/_classification.py:1565: UndefinedMetricWarning: Precision is ill-defined and being set to 0.0 due to no predicted samples. Use `zero_division` parameter to control this behavior.\n",
      "  _warn_prf(average, modifier, f\"{metric.capitalize()} is\", len(result))\n",
      "/Users/danielmilanesperez/anaconda3/envs/hoax-detection/lib/python3.10/site-packages/sklearn/metrics/_classification.py:1565: UndefinedMetricWarning: Precision is ill-defined and being set to 0.0 due to no predicted samples. Use `zero_division` parameter to control this behavior.\n",
      "  _warn_prf(average, modifier, f\"{metric.capitalize()} is\", len(result))\n",
      "/Users/danielmilanesperez/anaconda3/envs/hoax-detection/lib/python3.10/site-packages/sklearn/metrics/_classification.py:1565: UndefinedMetricWarning: Precision is ill-defined and being set to 0.0 due to no predicted samples. Use `zero_division` parameter to control this behavior.\n",
      "  _warn_prf(average, modifier, f\"{metric.capitalize()} is\", len(result))\n",
      "/Users/danielmilanesperez/anaconda3/envs/hoax-detection/lib/python3.10/site-packages/sklearn/metrics/_classification.py:1565: UndefinedMetricWarning: Precision is ill-defined and being set to 0.0 due to no predicted samples. Use `zero_division` parameter to control this behavior.\n",
      "  _warn_prf(average, modifier, f\"{metric.capitalize()} is\", len(result))\n"
     ]
    }
   ],
   "source": [
    "# Dummy (Most Frequent) classifier\n",
    "dummy_most_frequent = DummyClassifier(strategy = \"most_frequent\", random_state = 42)\n",
    "dummy_most_frequent_scores = cross_validate(dummy_most_frequent, predictor, target, cv = cv, scoring = scoring)\n",
    "\n",
    "print(\"Dummy Classifier (Most Frequent) Scores:\")\n",
    "\n",
    "for metric in scoring.keys():\n",
    "    mean_score = dummy_most_frequent_scores[f'test_{metric}'].mean()\n",
    "    print(f\"{metric}: {mean_score:.4f}\")"
   ]
  },
  {
   "cell_type": "code",
   "execution_count": 11,
   "id": "43e1908e",
   "metadata": {},
   "outputs": [
    {
     "name": "stdout",
     "output_type": "stream",
     "text": [
      "Dummy Classifier (Stratified) Scores:\n",
      "accuracy: 0.5032\n",
      "precision: 0.4894\n",
      "recall: 0.4958\n",
      "f1_score: 0.4926\n"
     ]
    }
   ],
   "source": [
    "# Dummy (Stratified) classifier\n",
    "dummy_stratified = DummyClassifier(strategy = \"stratified\", random_state = 42)\n",
    "dummy_stratified_scores = cross_validate(dummy_stratified, predictor, target, cv = cv, scoring = scoring)\n",
    "\n",
    "print(\"Dummy Classifier (Stratified) Scores:\")\n",
    "\n",
    "for metric in scoring.keys():\n",
    "    mean_score = dummy_stratified_scores[f'test_{metric}'].mean()\n",
    "    print(f\"{metric}: {mean_score:.4f}\")"
   ]
  },
  {
   "cell_type": "code",
   "execution_count": 12,
   "id": "58063d7d",
   "metadata": {},
   "outputs": [
    {
     "name": "stdout",
     "output_type": "stream",
     "text": [
      "Baseline XGBoost Classifier Scores:\n",
      "accuracy: 0.8801\n",
      "precision: 0.8485\n",
      "recall: 0.9172\n",
      "f1_score: 0.8815\n"
     ]
    }
   ],
   "source": [
    "# Baseline XGBoost Classifier\n",
    "baseline_model = xgb.XGBClassifier(eval_metric = \"logloss\", random_state = 42)\n",
    "baseline_scores = cross_validate(baseline_model, predictor, target, cv = cv, scoring = scoring)\n",
    "\n",
    "print(\"Baseline XGBoost Classifier Scores:\")\n",
    "\n",
    "for metric in scoring.keys():\n",
    "    mean_score = baseline_scores[f'test_{metric}'].mean()\n",
    "    print(f\"{metric}: {mean_score:.4f}\")"
   ]
  },
  {
   "cell_type": "code",
   "execution_count": 13,
   "id": "4ed395d1",
   "metadata": {},
   "outputs": [
    {
     "name": "stdout",
     "output_type": "stream",
     "text": [
      "Best f1: 0.8826922796053654\n",
      "Best hyperparameters: {'n_estimators': 61, 'max_depth': 7, 'learning_rate': 0.12815152910201283}\n"
     ]
    }
   ],
   "source": [
    "def objective(trial):\n",
    "    params = {\n",
    "        \"n_estimators\": trial.suggest_int(\"n_estimators\", 50, 300),\n",
    "        \"max_depth\": trial.suggest_int(\"max_depth\", 3, 10),\n",
    "        \"learning_rate\": trial.suggest_float(\"learning_rate\", 0.01, 0.3),\n",
    "        \"eval_metric\": \"logloss\",\n",
    "    }\n",
    "\n",
    "    model = xgb.XGBClassifier(**params)\n",
    "    score = cross_val_score(model, predictor, target, cv=cv, scoring ='f1').mean()\n",
    "\n",
    "    return score\n",
    "\n",
    "optuna.logging.set_verbosity(optuna.logging.WARNING)\n",
    "study = optuna.create_study(direction=\"maximize\")\n",
    "study.optimize(objective, n_trials=200)\n",
    "\n",
    "print(\"Best f1:\", study.best_value)\n",
    "print(\"Best hyperparameters:\", study.best_params)"
   ]
  },
  {
   "cell_type": "code",
   "execution_count": 14,
   "id": "456f1d0c",
   "metadata": {},
   "outputs": [
    {
     "data": {
      "image/png": "[encoded data removed]",
      "text/plain": [
       "<Figure size 640x480 with 1 Axes>"
      ]
     },
     "metadata": {},
     "output_type": "display_data"
    }
   ],
   "source": [
    "# Final Model with Best Hyperparameters\n",
    "final_model = xgb.XGBClassifier(\n",
    "    n_estimators = study.best_params[\"n_estimators\"],\n",
    "    max_depth = study.best_params[\"max_depth\"],\n",
    "    learning_rate = study.best_params[\"learning_rate\"],\n",
    "    eval_metric = \"logloss\",\n",
    "    random_state = 42\n",
    ")\n",
    "\n",
    "final_model.fit(predictor, target)\n",
    "\n",
    "xgb.plot_importance(final_model, importance_type = \"gain\")\n",
    "plt.show()\n"
   ]
  }
 ],
 "metadata": {
  "kernelspec": {
   "display_name": "hoax-detection",
   "language": "python",
   "name": "python3"
  },
  "language_info": {
   "codemirror_mode": {
    "name": "ipython",
    "version": 3
   },
   "file_extension": ".py",
   "mimetype": "text/x-python",
   "name": "python",
   "nbconvert_exporter": "python",
   "pygments_lexer": "ipython3",
   "version": "3.10.16"
  }
 },
 "nbformat": 4,
 "nbformat_minor": 5
}
