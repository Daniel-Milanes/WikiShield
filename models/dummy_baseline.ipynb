{
 "cells": [
  {
   "cell_type": "markdown",
   "id": "73a47e7e",
   "metadata": {},
   "source": [
    "# Baseline model: 50 - 50 Dummy Random Guessing Classifier"
   ]
  },
  {
   "cell_type": "markdown",
   "id": "383a4471",
   "metadata": {},
   "source": [
    "Import packages"
   ]
  },
  {
   "cell_type": "code",
   "execution_count": 3,
   "id": "5d0df62d",
   "metadata": {},
   "outputs": [],
   "source": [
    "import sys\n",
    "import os\n",
    "\n",
    "import pandas as pd\n",
    "import numpy as np\n",
    "from sklearn.metrics import accuracy_score, f1_score\n",
    "from sklearn.model_selection import StratifiedKFold\n",
    "from sklearn.pipeline import Pipeline\n",
    "from sklearn.dummy import DummyClassifier"
   ]
  },
  {
   "cell_type": "markdown",
   "id": "78c57caf",
   "metadata": {},
   "source": [
    "Prepare for preprocessing and Feature Engineering"
   ]
  },
  {
   "cell_type": "code",
   "execution_count": 4,
   "id": "65291af8",
   "metadata": {},
   "outputs": [],
   "source": [
    "# Automatically add the project root (1 level up) to the Python path\n",
    "project_root = os.path.abspath(os.path.join(os.getcwd(), \"..\"))\n",
    "if project_root not in sys.path:\n",
    "    sys.path.append(project_root)\n",
    "\n",
    "from feature_engineer import preprocessor, VandalismScorer"
   ]
  },
  {
   "cell_type": "markdown",
   "id": "32faf835",
   "metadata": {},
   "source": [
    "Read in the train data and preprocess it"
   ]
  },
  {
   "cell_type": "code",
   "execution_count": 5,
   "id": "226f5a54",
   "metadata": {},
   "outputs": [],
   "source": [
    "df_train = pd.read_csv(project_root+\"/data/train.csv\")\n",
    "preprocessor(df_train)"
   ]
  },
  {
   "cell_type": "markdown",
   "id": "5df267fc",
   "metadata": {},
   "source": [
    "Raw features including add_lines and deleted_lines"
   ]
  },
  {
   "cell_type": "code",
   "execution_count": 6,
   "id": "dc01f1ea",
   "metadata": {},
   "outputs": [],
   "source": [
    "feature_cols = [\"EditID\", \"user_edit_count\", \"user_warns\", \"num_recent_reversions\", \"num_edits_5d_before\", \"is_person\", \"added_lines\", \"deleted_lines\"]"
   ]
  },
  {
   "cell_type": "markdown",
   "id": "497f6d46",
   "metadata": {},
   "source": [
    "Initialize the cross-validation"
   ]
  },
  {
   "cell_type": "code",
   "execution_count": 7,
   "id": "4b5b7227",
   "metadata": {},
   "outputs": [],
   "source": [
    "num_splits = 5\n",
    "num_models = 4\n",
    "kfold = StratifiedKFold(num_splits, random_state=42, shuffle=True)"
   ]
  },
  {
   "cell_type": "code",
   "execution_count": 8,
   "id": "a19255ff",
   "metadata": {},
   "outputs": [],
   "source": [
    "accs_dummy, f1s_dummy = [], []\n",
    "\n",
    "for fold, (train_index, test_index) in enumerate(kfold.split(df_train[feature_cols], df_train.isvandalism)):\n",
    "    df_tt = df_train.iloc[train_index]\n",
    "    df_ho = df_train.iloc[test_index]\n",
    "\n",
    "    X_ho = df_ho[feature_cols]\n",
    "    y_ho = df_ho['isvandalism']\n",
    "\n",
    "    dummy_pipe = Pipeline([\n",
    "        ('scorer', VandalismScorer(n_splits=4)),\n",
    "        ('dummy', DummyClassifier(strategy=\"uniform\", random_state=fold))\n",
    "    ])\n",
    "    dummy_pipe.fit(X_ho, y_ho)  # Training is a formality: it does not use data\n",
    "    dummy_pred = dummy_pipe.predict(X_ho)\n",
    "    acc = accuracy_score(y_ho, dummy_pred)\n",
    "    f1 = f1_score(y_ho, dummy_pred)\n",
    "    accs_dummy.append(acc)\n",
    "    f1s_dummy.append(f1)\n",
    "    "
   ]
  },
  {
   "cell_type": "code",
   "execution_count": 10,
   "id": "88acfe07",
   "metadata": {},
   "outputs": [
    {
     "name": "stdout",
     "output_type": "stream",
     "text": [
      "\n",
      "Dummy (random guessing) average accuracy=0.4982, average F1=0.4915\n"
     ]
    }
   ],
   "source": [
    "print(f\"\\nDummy (random guessing) average accuracy={sum(accs_dummy)/len(accs_dummy):.4f}, average F1={sum(f1s_dummy)/len(f1s_dummy):.4f}\")"
   ]
  }
 ],
 "metadata": {
  "kernelspec": {
   "display_name": "hoax-detection",
   "language": "python",
   "name": "python3"
  },
  "language_info": {
   "codemirror_mode": {
    "name": "ipython",
    "version": 3
   },
   "file_extension": ".py",
   "mimetype": "text/x-python",
   "name": "python",
   "nbconvert_exporter": "python",
   "pygments_lexer": "ipython3",
   "version": "3.12.11"
  }
 },
 "nbformat": 4,
 "nbformat_minor": 5
}
