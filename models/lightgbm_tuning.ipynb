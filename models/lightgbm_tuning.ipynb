{
 "cells": [
  {
   "cell_type": "code",
   "execution_count": 1,
   "metadata": {
    "id": "_0yvy9KgwMKv"
   },
   "outputs": [],
   "source": [
    "#### import packages ####\n",
    "\n",
    "# os stuff\n",
    "import sys\n",
    "import os\n",
    "\n",
    "#pandas and numpy\n",
    "import pandas as pd\n",
    "import numpy as np\n",
    "\n",
    "#shap\n",
    "import shap\n",
    "\n",
    "#plotting\n",
    "import matplotlib.pyplot as plt\n",
    "import seaborn as sns\n",
    "sns.set_style(\"whitegrid\")\n",
    "\n",
    "#sklearn packages\n",
    "from sklearn.decomposition import PCA\n",
    "from sklearn.preprocessing import StandardScaler\n",
    "from sklearn.pipeline import Pipeline\n",
    "from sklearn.model_selection import StratifiedKFold, train_test_split, cross_validate, cross_val_score\n",
    "from sklearn.metrics import confusion_matrix, make_scorer, f1_score, accuracy_score, precision_score, recall_score"
   ]
  },
  {
   "cell_type": "code",
   "execution_count": null,
   "metadata": {
    "colab": {
     "base_uri": "https://localhost:8080/"
    },
    "executionInfo": {
     "elapsed": 22097,
     "status": "ok",
     "timestamp": 1751044384916,
     "user": {
      "displayName": "Paul Spears",
      "userId": "09253238346141311110"
     },
     "user_tz": 240
    },
    "id": "fy4xx7nvXLaB",
    "outputId": "043e61aa-2b6e-4493-8686-43cbc3b4c692"
   },
   "outputs": [
    {
     "name": "stdout",
     "output_type": "stream",
     "text": [
      "Mounted at /content/drive\n"
     ]
    }
   ],
   "source": [
    "# from google.colab import drive\n",
    "# drive.mount('/content/drive')"
   ]
  },
  {
   "cell_type": "code",
   "execution_count": 2,
   "metadata": {
    "id": "twETIjlcWs70"
   },
   "outputs": [],
   "source": [
    "# set paths for preprocessor\n",
    "sys.path.append('/content/drive/MyDrive/Erdos/Project/summer-2025-hoax-detection/')\n",
    "\n",
    "project_root = os.path.abspath(os.path.join(os.getcwd(), \"..\"))\n",
    "if project_root not in sys.path:\n",
    "    sys.path.append(project_root)\n",
    "\n",
    "from feature_engineer import (\n",
    "    VandalismScorer,\n",
    "    is_IP,\n",
    "    account_age,\n",
    "    comment_empty,\n",
    "    word_count,\n",
    ")\n",
    "\n",
    "from feature_engineer import preprocessor"
   ]
  },
  {
   "cell_type": "code",
   "execution_count": 3,
   "metadata": {
    "collapsed": true,
    "id": "eej4RSbzwOgu"
   },
   "outputs": [],
   "source": [
    "#LightGBM\n",
    "import lightgbm\n",
    "from lightgbm import LGBMClassifier"
   ]
  },
  {
   "cell_type": "code",
   "execution_count": 4,
   "metadata": {
    "colab": {
     "base_uri": "https://localhost:8080/"
    },
    "executionInfo": {
     "elapsed": 9387,
     "status": "ok",
     "timestamp": 1751044569565,
     "user": {
      "displayName": "Paul Spears",
      "userId": "09253238346141311110"
     },
     "user_tz": 240
    },
    "id": "tsUJrYT6DSIN",
    "outputId": "1b1a8b77-e265-458d-fb1a-f77f7db645d9"
   },
   "outputs": [],
   "source": [
    "#optuna\n",
    "import optuna"
   ]
  },
  {
   "cell_type": "code",
   "execution_count": 6,
   "metadata": {
    "id": "iFq4u_vXwvPK"
   },
   "outputs": [],
   "source": [
    "# read the csv_file and preprocess\n",
    "df = pd.read_csv(\"../Data/train.csv\")\n",
    "preprocessor(df)"
   ]
  },
  {
   "cell_type": "code",
   "execution_count": 8,
   "metadata": {
    "id": "pc2pKX4L7glX"
   },
   "outputs": [],
   "source": [
    "scoring = {\n",
    "    'accuracy' : make_scorer(accuracy_score),\n",
    "    'precision': make_scorer(precision_score),\n",
    "    'recall'   : make_scorer(recall_score),\n",
    "    'f1_score' : make_scorer(f1_score)\n",
    "}"
   ]
  },
  {
   "cell_type": "code",
   "execution_count": 9,
   "metadata": {
    "id": "lLHzAhldwxV8"
   },
   "outputs": [],
   "source": [
    "## Baseline model\n",
    "from sklearn.model_selection import train_test_split\n",
    "from sklearn.base import BaseEstimator, TransformerMixin\n",
    "\n",
    "class FeatureSelector(BaseEstimator, TransformerMixin):\n",
    "    def __init__(self, features):\n",
    "        self.features = features\n",
    "\n",
    "    def fit(self, X, y=None):\n",
    "        return self\n",
    "\n",
    "    def transform(self, X):\n",
    "        return X[self.features]\n",
    "\n",
    "\n",
    "nfeatures=['user_edit_count','user_distinct_pages',\n",
    "             'user_warns','num_edits_5d_before', \n",
    "            'num_recent_edits','num_recent_reversions',\n",
    "            'is_person','current_minor','account_age','comment_empty',\n",
    "            'is_IP','word_count_added','word_count_deleted',\n",
    "            'vandalism_score'\n",
    "            ]\n",
    "\n",
    "pipe = Pipeline([\n",
    "    ('scorer', VandalismScorer(n_splits=5, random_state=42)),\n",
    "    ('select', FeatureSelector(nfeatures)),\n",
    "    ('model', LGBMClassifier(objective='binary',\n",
    "              metric='binary_logloss',\n",
    "              verbosity = -1,\n",
    "              boosting_type='gbdt',\n",
    "              force_col_wise=True,\n",
    "              random_state=42))\n",
    "])\n",
    "\n",
    "cv = StratifiedKFold(n_splits=5, shuffle=True, random_state=42)"
   ]
  },
  {
   "cell_type": "code",
   "execution_count": 10,
   "metadata": {
    "colab": {
     "base_uri": "https://localhost:8080/"
    },
    "executionInfo": {
     "elapsed": 440652,
     "status": "ok",
     "timestamp": 1751045025635,
     "user": {
      "displayName": "Paul Spears",
      "userId": "09253238346141311110"
     },
     "user_tz": 240
    },
    "id": "bDcMmKSVP8T6",
    "outputId": "76d8d2a8-660a-424f-8843-e233b8aa97c5"
   },
   "outputs": [
    {
     "name": "stdout",
     "output_type": "stream",
     "text": [
      "Baseline LightGBM Classifier Scores:\n",
      "accuracy: 0.9142\n",
      "precision: 0.9252\n",
      "recall: 0.8961\n",
      "f1_score: 0.9104\n"
     ]
    }
   ],
   "source": [
    "baseline_scores = cross_validate(\n",
    "    pipe, df.copy(), df['isvandalism'].copy(),\n",
    "    cv=cv, scoring=scoring\n",
    ")\n",
    "\n",
    "print(\"Baseline LightGBM Classifier Scores:\")\n",
    "for metric in scoring.keys():\n",
    "    mean_score = baseline_scores[f'test_{metric}'].mean()\n",
    "    print(f\"{metric}: {mean_score:.4f}\")"
   ]
  },
  {
   "cell_type": "markdown",
   "metadata": {
    "id": "5e3VW--xSv7f"
   },
   "source": [
    "Baseline LightGBM Classifier Scores:\n",
    "* accuracy: 0.9142\n",
    "* precision: 0.9252\n",
    "* recall: 0.8961\n",
    "* f1_score: 0.9104"
   ]
  },
  {
   "cell_type": "code",
   "execution_count": 11,
   "metadata": {
    "id": "-94te9ZgSZMP"
   },
   "outputs": [],
   "source": [
    "def train(\n",
    "    predictor: pd.DataFrame,\n",
    "    target: pd.Series,\n",
    "    cv: StratifiedKFold,\n",
    "    scoring: str = \"accuracy\",\n",
    ") -> None:\n",
    "\n",
    "\n",
    "    def objective(trial):\n",
    "        params = {\n",
    "            'objective': 'binary',\n",
    "            'metric': 'binary_logloss',\n",
    "            'verbosity': -1,\n",
    "            'boosting_type': 'gbdt',\n",
    "            'learning_rate': trial.suggest_float('learning_rate', 1e-3, 0.3, log=True),\n",
    "            'num_leaves': trial.suggest_int('num_leaves', 15, 256),\n",
    "            'n_estimators': trial.suggest_int('n_estimators', 100, 1000),\n",
    "            'max_depth': trial.suggest_int('max_depth', 5, 12),\n",
    "            'random_state': 42\n",
    "        }\n",
    "\n",
    "        nfeatures = ['user_edit_count','user_distinct_pages',\n",
    "             'user_warns','num_edits_5d_before', \n",
    "            'num_recent_edits','num_recent_reversions',\n",
    "            'is_person','current_minor','account_age','comment_empty',\n",
    "            'is_IP','word_count_added','word_count_deleted',\n",
    "            'vandalism_score'\n",
    "            ]\n",
    "\n",
    "\n",
    "        pipe = Pipeline([('scorer', VandalismScorer(n_splits=5, random_state=42)),\n",
    "                  ('select', FeatureSelector(nfeatures)),\n",
    "                  ('model', LGBMClassifier(**params))\n",
    "                  ])\n",
    "\n",
    "        score = cross_val_score(\n",
    "                        pipe, predictor.copy(), target.copy(),\n",
    "                        cv=cv, scoring='accuracy'\n",
    "                        ).mean()\n",
    "        return score\n",
    "\n",
    "    optuna.logging.set_verbosity(optuna.logging.WARNING)\n",
    "    study = optuna.create_study(direction=\"maximize\")\n",
    "    study.optimize(objective, n_trials=10)\n",
    "\n",
    "    print(\"Optuna Optimization Results\")\n",
    "    print(\"Best Accuracy:\", study.best_value)\n",
    "    print(\"Best hyperparameters:\", study.best_params)\n",
    "\n",
    "    return study.best_params, study.best_value\n"
   ]
  },
  {
   "cell_type": "code",
   "execution_count": 12,
   "metadata": {
    "id": "3WZO6bJASrW0"
   },
   "outputs": [
    {
     "name": "stdout",
     "output_type": "stream",
     "text": [
      "Optuna Optimization Results\n",
      "Best Accuracy: 0.915447808026429\n",
      "Best hyperparameters: {'learning_rate': 0.019047994719728283, 'num_leaves': 128, 'n_estimators': 736, 'max_depth': 9}\n"
     ]
    }
   ],
   "source": [
    "cv = StratifiedKFold(n_splits=5, shuffle=True, random_state=42)\n",
    "best_params, best_score = train(df, df.isvandalism, cv)"
   ]
  },
  {
   "cell_type": "markdown",
   "metadata": {},
   "source": [
    "## Old code"
   ]
  },
  {
   "cell_type": "code",
   "execution_count": null,
   "metadata": {
    "id": "V7E_3fDiemFG"
   },
   "outputs": [],
   "source": [
    "def shap_rfe(\n",
    "    predictor: pd.DataFrame,\n",
    "    target: pd.Series,\n",
    "    cv,\n",
    "    scoring: str = \"accuracy\",\n",
    "    drop_threshold: float = 0.01,\n",
    "    min_features: int = 1,\n",
    ") -> tuple[float, list[str]]:\n",
    "    features = predictor.columns.tolist()\n",
    "    model = LGBMClassifier(random_state=42, verbosity=-1)\n",
    "    initial_score = cross_val_score(\n",
    "        model, predictor, target, cv=cv, scoring=scoring\n",
    "    ).mean()\n",
    "\n",
    "    performance = [(len(features), initial_score)]\n",
    "    print(f\"Start: {len(features)} features → {scoring}: {initial_score:.4f}\")\n",
    "\n",
    "    best_score = initial_score\n",
    "    best_features = features.copy()\n",
    "\n",
    "    while len(features) > min_features:\n",
    "        model = LGBMClassifier(random_state=42, verbosity=0)\n",
    "        model.fit(predictor[features], target)\n",
    "\n",
    "        explainer = shap.TreeExplainer(model)\n",
    "        shap_values = explainer.shap_values(predictor[features])\n",
    "\n",
    "        mean_shap = np.abs(shap_values).mean(axis=0)\n",
    "        shap_df = pd.DataFrame({\"feature\": features, \"mean_shap\": mean_shap})\n",
    "        shap_df = shap_df.sort_values(by=\"mean_shap\")\n",
    "\n",
    "        feature_to_drop = shap_df.iloc[0][\"feature\"]\n",
    "        features.remove(feature_to_drop)\n",
    "\n",
    "        score = cross_val_score(\n",
    "            LGBMClassifier(random_state=42, verbosity=0),\n",
    "            predictor[features],\n",
    "            target,\n",
    "            cv=cv,\n",
    "            scoring=scoring,\n",
    "        ).mean()\n",
    "\n",
    "        if score > best_score:\n",
    "            best_score = score\n",
    "            best_features = features.copy()\n",
    "\n",
    "        performance.append((len(features), score))\n",
    "\n",
    "        if best_score - score > drop_threshold:\n",
    "            break\n",
    "\n",
    "    lengths, scores = zip(*performance)\n",
    "    plt.figure(figsize=(10, 6))\n",
    "    plt.plot(lengths, scores, marker=\"o\")\n",
    "    plt.xlabel(\"Number of Features\")\n",
    "    plt.ylabel(scoring.capitalize())\n",
    "    plt.title(\"RFE Performance vs. Number of Features\")\n",
    "    plt.gca().invert_xaxis()\n",
    "    plt.grid(True)\n",
    "    plt.show()\n",
    "\n",
    "    return best_score, best_features\n"
   ]
  },
  {
   "cell_type": "code",
   "execution_count": null,
   "metadata": {
    "colab": {
     "base_uri": "https://localhost:8080/"
    },
    "executionInfo": {
     "elapsed": 2575607,
     "status": "ok",
     "timestamp": 1750699280839,
     "user": {
      "displayName": "Paul Spears",
      "userId": "09253238346141311110"
     },
     "user_tz": 240
    },
    "id": "vgOpmSV6hWHI",
    "outputId": "dd987764-49c0-4df5-ef03-d36666c9382d"
   },
   "outputs": [
    {
     "name": "stdout",
     "output_type": "stream",
     "text": [
      "Baseline accuracy score: 0.9251\n",
      "Optuna Optimization Results\n",
      "Best Accuracy: 0.927403089669871\n",
      "Best hyperparameters: {'learning_rate': 0.027425528114638015, 'num_leaves': 26, 'n_estimators': 570, 'max_depth': 9}\n"
     ]
    }
   ],
   "source": [
    "cv = StratifiedKFold(n_splits = 5, shuffle = True, random_state = 42)\n",
    "target = \"isvandalism\"\n",
    "features_1 = [\n",
    "    \"user_edit_count\",\n",
    "    \"user_distinct_pages\",\n",
    "    \"user_warns\",\n",
    "    \"num_recent_edits\",\n",
    "    \"num_recent_reversions\",\n",
    "    \"num_edits_5d_before\",\n",
    "    \"account_age\",\n",
    "    \"word_count_added\",\n",
    "    \"word_count_deleted\",\n",
    "    \"vandalism_score\",\n",
    "    \"comment_empty\",\n",
    "    \"is_IP\",\n",
    "    \"current_minor\",\n",
    "    \"is_person\",\n",
    "]\n",
    "\n",
    "\n",
    "best_params, best_score = train(df[features_1], df[target], cv)"
   ]
  },
  {
   "cell_type": "code",
   "execution_count": null,
   "metadata": {
    "colab": {
     "base_uri": "https://localhost:8080/",
     "height": 988
    },
    "executionInfo": {
     "elapsed": 209051,
     "status": "ok",
     "timestamp": 1750699944189,
     "user": {
      "displayName": "Paul Spears",
      "userId": "09253238346141311110"
     },
     "user_tz": 240
    },
    "id": "PoasK8Zd1dUz",
    "outputId": "0718c431-e4c2-40a0-b624-cbfa6a1a5533"
   },
   "outputs": [
    {
     "name": "stdout",
     "output_type": "stream",
     "text": [
      "Original Features:\n",
      "Start: 14 features → accuracy: 0.9251\n"
     ]
    },
    {
     "name": "stderr",
     "output_type": "stream",
     "text": [
      "/usr/local/lib/python3.11/dist-packages/shap/explainers/_tree.py:583: UserWarning: LightGBM binary classifier with TreeExplainer shap values output has changed to a list of ndarray\n",
      "  warnings.warn(\n",
      "/usr/local/lib/python3.11/dist-packages/shap/explainers/_tree.py:583: UserWarning: LightGBM binary classifier with TreeExplainer shap values output has changed to a list of ndarray\n",
      "  warnings.warn(\n",
      "/usr/local/lib/python3.11/dist-packages/shap/explainers/_tree.py:583: UserWarning: LightGBM binary classifier with TreeExplainer shap values output has changed to a list of ndarray\n",
      "  warnings.warn(\n",
      "/usr/local/lib/python3.11/dist-packages/shap/explainers/_tree.py:583: UserWarning: LightGBM binary classifier with TreeExplainer shap values output has changed to a list of ndarray\n",
      "  warnings.warn(\n",
      "/usr/local/lib/python3.11/dist-packages/shap/explainers/_tree.py:583: UserWarning: LightGBM binary classifier with TreeExplainer shap values output has changed to a list of ndarray\n",
      "  warnings.warn(\n",
      "/usr/local/lib/python3.11/dist-packages/shap/explainers/_tree.py:583: UserWarning: LightGBM binary classifier with TreeExplainer shap values output has changed to a list of ndarray\n",
      "  warnings.warn(\n",
      "/usr/local/lib/python3.11/dist-packages/shap/explainers/_tree.py:583: UserWarning: LightGBM binary classifier with TreeExplainer shap values output has changed to a list of ndarray\n",
      "  warnings.warn(\n",
      "/usr/local/lib/python3.11/dist-packages/shap/explainers/_tree.py:583: UserWarning: LightGBM binary classifier with TreeExplainer shap values output has changed to a list of ndarray\n",
      "  warnings.warn(\n",
      "/usr/local/lib/python3.11/dist-packages/shap/explainers/_tree.py:583: UserWarning: LightGBM binary classifier with TreeExplainer shap values output has changed to a list of ndarray\n",
      "  warnings.warn(\n",
      "/usr/local/lib/python3.11/dist-packages/shap/explainers/_tree.py:583: UserWarning: LightGBM binary classifier with TreeExplainer shap values output has changed to a list of ndarray\n",
      "  warnings.warn(\n"
     ]
    },
    {
     "data": {
      "image/png": "[encoded data removed]",
      "text/plain": [
       "<Figure size 1000x600 with 1 Axes>"
      ]
     },
     "metadata": {},
     "output_type": "display_data"
    }
   ],
   "source": [
    "print(\"Original Features:\")\n",
    "best_score_1, best_features_1 = shap_rfe(df[features_1], df[target], cv)"
   ]
  },
  {
   "cell_type": "code",
   "execution_count": null,
   "metadata": {
    "colab": {
     "base_uri": "https://localhost:8080/"
    },
    "executionInfo": {
     "elapsed": 363566,
     "status": "ok",
     "timestamp": 1750610714924,
     "user": {
      "displayName": "Paul Spears",
      "userId": "09253238346141311110"
     },
     "user_tz": 240
    },
    "id": "CwCSo36dC_Wk",
    "outputId": "c3794460-cb1d-49eb-be85-d02c075a2af9"
   },
   "outputs": [
    {
     "name": "stdout",
     "output_type": "stream",
     "text": [
      "Best f1: 0.9122232920285643\n",
      "Best hyperparameters: {'learning_rate': 0.00828031828213807, 'num_leaves': 74, 'n_estimators': 341, 'max_depth': 11}\n"
     ]
    }
   ],
   "source": [
    "def objective(trial):\n",
    "    params = {\n",
    "        'objective': 'binary',\n",
    "        'metric': 'binary_logloss',\n",
    "        'verbosity': -1,\n",
    "        'boosting_type': 'gbdt',\n",
    "        'learning_rate': trial.suggest_float('learning_rate', 1e-3, 0.3, log=True),\n",
    "        'num_leaves': trial.suggest_int('num_leaves', 15, 256),\n",
    "        'n_estimators': trial.suggest_int('n_estimators', 100, 1000),\n",
    "        'max_depth': trial.suggest_int('max_depth', 5, 12)\n",
    "    }\n",
    "\n",
    "    model = LGBMClassifier(**params)\n",
    "    score = cross_val_score(model, df[features], df[target], cv=cv, scoring='accuracy').mean()\n",
    "    return score\n",
    "\n",
    "#optuna tuning\n",
    "optuna.logging.set_verbosity(optuna.logging.WARNING)\n",
    "study = optuna.create_study(direction=\"maximize\")\n",
    "study.optimize(objective, n_trials=10)\n",
    "\n",
    "print(\"Best accuracy:\", study.best_value)\n",
    "print(\"Best hyperparameters:\", study.best_params)"
   ]
  },
  {
   "cell_type": "markdown",
   "metadata": {
    "id": "3eS0RFLIgC1l"
   },
   "source": [
    "Optimizing $F_1$ score with $n=10$ trials, we get the following result:\n",
    "\n",
    "\n",
    "```\n",
    "Best f1: 0.9083058881728933\n",
    "Best hyperparameters: {'learning_rate': 0.013126799624277498, 'num_leaves': 92, 'n_estimators': 311, 'max_depth': 5}\n",
    "```\n",
    "\n"
   ]
  },
  {
   "cell_type": "markdown",
   "metadata": {
    "id": "lHxlXJ9SgyQA"
   },
   "source": [
    "Optimizing `accuracy_score` with $n=10$ trials, we get the following result:\n",
    "\n",
    "\n",
    "```\n",
    "Best accuracy: 0.9122232920285643\n",
    "Best hyperparameters: {'learning_rate': 0.00828031828213807, 'num_leaves': 74, 'n_estimators': 341, 'max_depth': 11}\n",
    "```\n",
    "\n"
   ]
  },
  {
   "cell_type": "code",
   "execution_count": null,
   "metadata": {
    "colab": {
     "base_uri": "https://localhost:8080/"
    },
    "executionInfo": {
     "elapsed": 1884,
     "status": "ok",
     "timestamp": 1750610751839,
     "user": {
      "displayName": "Paul Spears",
      "userId": "09253238346141311110"
     },
     "user_tz": 240
    },
    "id": "H5PxNLw4OQsm",
    "outputId": "92ed2946-32c5-48e9-873b-79df226bb119"
   },
   "outputs": [
    {
     "name": "stdout",
     "output_type": "stream",
     "text": [
      "Final Accuracy: 0.9089657884388518\n",
      "Confusion Matrix:\n",
      " [[2376  234]\n",
      " [ 229 2247]]\n"
     ]
    }
   ],
   "source": [
    "# Train/test split\n",
    "from sklearn.model_selection import train_test_split\n",
    "df_tt, df_ho = train_test_split(df, test_size=0.2, stratify=df[target], random_state=42)\n",
    "\n",
    "# Final model\n",
    "final_model = LGBMClassifier(\n",
    "    objective='binary',\n",
    "    metric='binary_logloss',\n",
    "    verbosity=-1,\n",
    "    boosting_type='gbdt',\n",
    "    learning_rate=study.best_params[\"learning_rate\"],\n",
    "    num_leaves=study.best_params['num_leaves'],\n",
    "    n_estimators=study.best_params['n_estimators'],\n",
    "    max_depth=study.best_params['max_depth']\n",
    ")\n",
    "\n",
    "final_model.fit(df_tt[features], df_tt[target])\n",
    "preds = final_model.predict(df_ho[features])\n",
    "\n",
    "accuracy = accuracy_score(df_ho[target], preds)\n",
    "confmat = confusion_matrix(df_ho[target], preds)\n",
    "print(\"Final Accuracy:\", accuracy)\n",
    "print(\"Confusion Matrix:\\n\", confmat)"
   ]
  }
 ],
 "metadata": {
  "colab": {
   "authorship_tag": "ABX9TyOytHlyGz3t62y20xlrNyXA",
   "gpuType": "T4",
   "mount_file_id": "10qLNkRQMn8H8rzEja_Cv1iyIPDtdHeAo",
   "provenance": []
  },
  "kernelspec": {
   "display_name": "hoax-detection",
   "language": "python",
   "name": "python3"
  },
  "language_info": {
   "codemirror_mode": {
    "name": "ipython",
    "version": 3
   },
   "file_extension": ".py",
   "mimetype": "text/x-python",
   "name": "python",
   "nbconvert_exporter": "python",
   "pygments_lexer": "ipython3",
   "version": "3.12.11"
  }
 },
 "nbformat": 4,
 "nbformat_minor": 0
}
